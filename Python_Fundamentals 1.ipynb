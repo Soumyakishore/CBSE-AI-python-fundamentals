{
  "nbformat": 4,
  "nbformat_minor": 0,
  "metadata": {
    "kernelspec": {
      "name": "python36",
      "display_name": "Python 3.6",
      "language": "python"
    },
    "language_info": {
      "mimetype": "text/x-python",
      "nbconvert_exporter": "python",
      "name": "python",
      "pygments_lexer": "ipython3",
      "version": "3.6.6",
      "file_extension": ".py",
      "codemirror_mode": {
        "version": 3,
        "name": "ipython"
      }
    },
    "colab": {
      "name": "Notebook for Topic 03 Videos - Python Fundamentals.ipynb",
      "provenance": []
    }
  },
  "cells": [
    {
      "cell_type": "markdown",
      "metadata": {
        "collapsed": true,
        "id": "AcBuFVlJ9Ohv"
      },
      "source": [
        "# Python Fundamentals\n",
        "This notebook demonstrates how to perform a variety of fundamental tasks in the Python programming language.\n",
        "\n",
        "### How to Display Text in Python"
      ]
    },
    {
      "cell_type": "code",
      "metadata": {
        "trusted": true,
        "id": "5fM_HUqM9Ohx"
      },
      "source": [
        "#display a line of text using the  print()  function\n",
        "print('Hello, my name is Dan!')"
      ],
      "execution_count": null,
      "outputs": []
    },
    {
      "cell_type": "markdown",
      "metadata": {
        "id": "B8wd7S519Oh2"
      },
      "source": [
        "### How to Include a Linefeed when Displaying Text in Python"
      ]
    },
    {
      "cell_type": "code",
      "metadata": {
        "trusted": true,
        "id": "p768CtMT9Oh3"
      },
      "source": [
        "#print two lines of text by using the new line symbol\n",
        "print('This is the first line of text\\nHere is another line of text')"
      ],
      "execution_count": null,
      "outputs": []
    },
    {
      "cell_type": "markdown",
      "metadata": {
        "id": "_yLZrfbO9Oh8"
      },
      "source": [
        "### How to Declare Variables in Python"
      ]
    },
    {
      "cell_type": "code",
      "metadata": {
        "trusted": true,
        "id": "b9RE2sUl9Oh9"
      },
      "source": [
        "#declare three variables.\n",
        "#note that text values are enclosed in single quotes.\n",
        "product_name = 'Delicious Nachos'\n",
        "quantity_sold = 33\n",
        "unit_price = 12.99\n",
        "\n",
        "#print the values of the variables.\n",
        "#when used in this way, the '+' symbol joins two strings of text together.\n",
        "#the 'str()' function converts a number to a string (i.e., to text)\n",
        "print('We sold ' + str(quantity_sold) + ' ' + product_name + ' for ' + str(unit_price) + ' each!')"
      ],
      "execution_count": null,
      "outputs": []
    },
    {
      "cell_type": "code",
      "metadata": {
        "trusted": true,
        "id": "s9WchcbR9OiC"
      },
      "source": [
        "#here's a more advanced way of accomplishing the same thing by using the 'format()' function:\n",
        "print('We sold {0} {1} for {2} each!'.format(quantity_sold, product_name, unit_price))"
      ],
      "execution_count": null,
      "outputs": []
    },
    {
      "cell_type": "markdown",
      "metadata": {
        "id": "X2j2DJcT9OiG"
      },
      "source": [
        "### Arithmetic Operators in Python"
      ]
    },
    {
      "cell_type": "code",
      "metadata": {
        "trusted": true,
        "id": "CJPzv8YB9OiH"
      },
      "source": [
        "#set the value of a variable named 'a' to 5\n",
        "a = 5\n",
        "\n",
        "#addition. Result: 7\n",
        "b = a + 2  \n",
        "\n",
        "#subtraction. Result: 4\n",
        "c = b - 3   \n",
        "\n",
        "#multiplication. Result: 8\n",
        "d = c * 2   \n",
        "\n",
        "#division. Result: 2.0\n",
        "e = d / 4  \n",
        "\n",
        "#exponentiation. Result: 4.0\n",
        "f = e ** 2  \n",
        "\n",
        "#modulo (returns the remainder). Result: 0.0\n",
        "g = f % 2   \n",
        "\n",
        "#print results\n",
        "print('The values of a, b, c, d, e, f, and g are: {0}, {1}, {2}, {3}, {4}, {5}, and {6}.'.format(a, b, c, d, e, f, g))"
      ],
      "execution_count": null,
      "outputs": []
    },
    {
      "cell_type": "markdown",
      "metadata": {
        "id": "nAugy9IV9OiL"
      },
      "source": [
        "### Comparison Operators in Python"
      ]
    },
    {
      "cell_type": "code",
      "metadata": {
        "trusted": true,
        "id": "dOlcYEXd9OiM"
      },
      "source": [
        "x = 5          #set the value of a variable named 'x' to 5\n",
        "print(x == 3)  #checks whether x is equal to 3. Result: False\n",
        "print(x != 7)  #checks whether x is not equal to 7. Result: True\n",
        "print(x > 14)  #checks whether x is greater than 14. Result: False\n",
        "print(x < 23)  #checks whether x is less than 23. Result: True\n",
        "print(x >= 9)  #checks whether x is greater than or equal to 9. Result: False\n",
        "print(x <= 5)  #checks whether x is less than or equal to 5. Result: True"
      ],
      "execution_count": null,
      "outputs": []
    },
    {
      "cell_type": "code",
      "metadata": {
        "trusted": true,
        "id": "s6qC6rF49OiR"
      },
      "source": [
        "x = -33\n",
        "x < 7"
      ],
      "execution_count": null,
      "outputs": []
    },
    {
      "cell_type": "markdown",
      "metadata": {
        "trusted": true,
        "id": "s7MdQkS79OiX"
      },
      "source": [
        "### Lists in Python"
      ]
    },
    {
      "cell_type": "code",
      "metadata": {
        "trusted": true,
        "id": "_7Gobv8O9OiX"
      },
      "source": [
        "#create a list of integers\n",
        "int_list = [-3, 7, 4, 0, -2, 342]\n",
        "\n",
        "#create a list of strings\n",
        "planets_list = ['mercury', 'venus', 'earth', 'mars', 'jupiter', 'saturn', 'uranus', 'neptune']\n",
        "\n",
        "#create a two-dimensional list of integers\n",
        "two_dimensional_list = [[-3, 7, 4], [0, -2, 342]]\n"
      ],
      "execution_count": null,
      "outputs": []
    },
    {
      "cell_type": "markdown",
      "metadata": {
        "id": "nM3wEvc89Oib"
      },
      "source": [
        "#### Indexing in Python\n",
        "Indexing in Python is zero-based, so the first element in a list or array has an index of `0`, the second element has an index of `1`, and so on.\n",
        "![03%20-%20Indexing%20for%20One-Dimensional%20List.png](attachment:03%20-%20Indexing%20for%20One-Dimensional%20List.png)"
      ]
    },
    {
      "cell_type": "code",
      "metadata": {
        "trusted": true,
        "id": "FlwQCoB79Oic"
      },
      "source": [
        "#print the name of the third planet\n",
        "print(planets_list[2])"
      ],
      "execution_count": null,
      "outputs": []
    },
    {
      "cell_type": "markdown",
      "metadata": {
        "id": "DPNLQOmo9Oig"
      },
      "source": [
        "### NumPy Arrays in Python"
      ]
    },
    {
      "cell_type": "code",
      "metadata": {
        "trusted": true,
        "id": "VmtZoGR_9Oii"
      },
      "source": [
        "#import the NumPy library and assign it the alias 'np'\n",
        "import numpy as np\n",
        "\n",
        "#create a two-dimensional array of size 2x3 (i.e., 2 rows, 3 columns), and set all of its values to zero\n",
        "np_array = np.zeros((2, 3))\n",
        "\n",
        "#print the current state of the two-dimensional array\n",
        "print(np_array)"
      ],
      "execution_count": null,
      "outputs": []
    },
    {
      "cell_type": "markdown",
      "metadata": {
        "id": "ArRjZUuy9Oin"
      },
      "source": [
        "#### Indexing in Two-Dimensional Lists and Arrays\n",
        "When working with two-dimensional lists or arrays, we need to specify the index of an element's row and the index of its column.\n",
        "![03%20-%20Indexing%20for%20Two-Dimensional%20Array.png](attachment:03%20-%20Indexing%20for%20Two-Dimensional%20Array.png)"
      ]
    },
    {
      "cell_type": "code",
      "metadata": {
        "trusted": true,
        "id": "twgrgsT89Oio"
      },
      "source": [
        "#set the values of the upper-left and lower-right elements to 5 and 3, respectively\n",
        "np_array[0,0] = 5\n",
        "np_array[1,2] = 3\n",
        "\n",
        "#print the current state of the two-dimensional array\n",
        "print(np_array)\n",
        "\n",
        "#print the mean (average) of all of the array elements\n",
        "print(np.mean(np_array))"
      ],
      "execution_count": null,
      "outputs": []
    },
    {
      "cell_type": "markdown",
      "metadata": {
        "id": "fjfVfnGO9Oir"
      },
      "source": [
        "### `if` Statements in Python"
      ]
    },
    {
      "cell_type": "code",
      "metadata": {
        "trusted": true,
        "id": "bokOQ1XW9Ois"
      },
      "source": [
        "#declare a variable named 'x' and set its value\n",
        "x = -7\n",
        "\n",
        "#print a specific message depending on whether x is less than 10\n",
        "if x < 10:\n",
        "    print('x is less than 10.')\n",
        "else:\n",
        "    print('x is greater than or equal to 10.')"
      ],
      "execution_count": null,
      "outputs": []
    },
    {
      "cell_type": "code",
      "metadata": {
        "trusted": true,
        "id": "8MSQqyBJ9Oiw"
      },
      "source": [
        "#handle multiple possibilities using an 'if', 'else if', 'else' structure\n",
        "age = 42\n",
        "\n",
        "if age < 13:\n",
        "    print('child')\n",
        "elif age < 20:\n",
        "    print('teenager')\n",
        "else:\n",
        "    print('adult')"
      ],
      "execution_count": null,
      "outputs": []
    },
    {
      "cell_type": "markdown",
      "metadata": {
        "id": "MlzzmVqE9Oiz"
      },
      "source": [
        "### Logical Operators in Python"
      ]
    },
    {
      "cell_type": "code",
      "metadata": {
        "trusted": true,
        "id": "d-sOG2Ji9Oi0"
      },
      "source": [
        "#use logical operators to test multiple conditions simultaneously\n",
        "x = 5\n",
        "y = 10\n",
        "\n",
        "if x > 0 and y > 0:\n",
        "    print('both variables are positive.')\n",
        "elif x > 0 or y > 0:\n",
        "    print('one of the variables is positive.')\n",
        "else:\n",
        "    print('neither variable is positive.')"
      ],
      "execution_count": null,
      "outputs": []
    },
    {
      "cell_type": "code",
      "metadata": {
        "trusted": true,
        "id": "n6YGhGEH9Oi3"
      },
      "source": [
        "#reverse the result of a comparison by using 'not'\n",
        "age = 7\n",
        "\n",
        "if not age < 13:\n",
        "    print('the person is not a child.')\n",
        "else:\n",
        "    print('the person is a child')"
      ],
      "execution_count": null,
      "outputs": []
    },
    {
      "cell_type": "markdown",
      "metadata": {
        "id": "ypUuwENm9Oi8"
      },
      "source": [
        "### `for` Loops in Python"
      ]
    },
    {
      "cell_type": "code",
      "metadata": {
        "trusted": true,
        "id": "XZKocGVM9Oi9"
      },
      "source": [
        "#print the first 10 natural numbers (1 through 10).\n",
        "#note that the lower limit of the range is inclusive, while the upper limit of the range is exclusive.\n",
        "for x in range(1, 11):\n",
        "    print(x)"
      ],
      "execution_count": null,
      "outputs": []
    },
    {
      "cell_type": "code",
      "metadata": {
        "trusted": true,
        "id": "kedttYEj9OjB"
      },
      "source": [
        "#create a list of strings\n",
        "planets_list = ['mercury', 'venus', 'earth', 'mars', 'jupiter', 'saturn', 'uranus', 'neptune']\n",
        "\n",
        "#print the names of all of the planets in the planets list\n",
        "for planet in planets_list:\n",
        "    print(planet)"
      ],
      "execution_count": null,
      "outputs": []
    },
    {
      "cell_type": "code",
      "metadata": {
        "trusted": true,
        "id": "lWVfgG_u9OjG"
      },
      "source": [
        "#import the NumPy library and assign it the alias 'np'\n",
        "import numpy as np\n",
        "\n",
        "#create a two-dimensional array of size 2x3 (i.e., 2 rows, 3 columns), and set all of its values to zero\n",
        "np_array = np.zeros((2, 3))\n",
        "\n",
        "#set the values of a few array elements\n",
        "np_array[0,0] = 5\n",
        "np_array[1,2] = 3\n",
        "\n",
        "#print our two-dimensional NumPy array from earlier in this notebook\n",
        "print(np_array)"
      ],
      "execution_count": null,
      "outputs": []
    },
    {
      "cell_type": "code",
      "metadata": {
        "trusted": true,
        "id": "16Yv5uHw9OjJ"
      },
      "source": [
        "#use nested for loops to print out each individual element in the array\n",
        "for row in range(0, 2):\n",
        "    for column in range(0, 3):\n",
        "        print('The value of element [{0},{1}] is {2}'.format(row, column, np_array[row,column]))"
      ],
      "execution_count": null,
      "outputs": []
    },
    {
      "cell_type": "markdown",
      "metadata": {
        "id": "hjyWvcV79OjM"
      },
      "source": [
        "### `while` Loops in Python"
      ]
    },
    {
      "cell_type": "code",
      "metadata": {
        "trusted": true,
        "id": "_Xil3q9d9OjN"
      },
      "source": [
        "#use a while loop to print a geometric series with a factor of 2\n",
        "x = 1\n",
        "while x < 10000:\n",
        "    print(x)\n",
        "    x = x * 2"
      ],
      "execution_count": null,
      "outputs": []
    },
    {
      "cell_type": "markdown",
      "metadata": {
        "id": "imjCpAYT9OjR"
      },
      "source": [
        "### Functions in Python"
      ]
    },
    {
      "cell_type": "code",
      "metadata": {
        "trusted": true,
        "id": "oDdl8A1g9OjS"
      },
      "source": [
        "#define a function that multiplies two numbers together\n",
        "def multiply(a, b):\n",
        "    return a * b\n",
        "\n",
        "#call the function and print the result\n",
        "c = multiply(33, 147)\n",
        "print('33 multiplied by 147 is {}'.format(c))"
      ],
      "execution_count": null,
      "outputs": []
    },
    {
      "cell_type": "code",
      "metadata": {
        "trusted": true,
        "id": "6iGzVrGg9OjW"
      },
      "source": [
        "#define a function that determines if a number is even\n",
        "def is_even(x):\n",
        "    if x % 2 == 0: #a number is even if it can be evenly divided by 2\n",
        "        return True\n",
        "    else:\n",
        "        return False\n",
        "    \n",
        "#call the function several times and print the results\n",
        "for i in range(0, 10):\n",
        "    print('Is {0} an even number? Answer: {1}'.format(i, is_even(i)))"
      ],
      "execution_count": null,
      "outputs": []
    },
    {
      "cell_type": "markdown",
      "metadata": {
        "id": "_MvLElW69Oja"
      },
      "source": [
        "### Classes and Objects in Python"
      ]
    },
    {
      "cell_type": "code",
      "metadata": {
        "trusted": true,
        "id": "4O5SKk9L9Ojb"
      },
      "source": [
        "#define a 'Movie' class to hold information about movies\n",
        "class Movie():\n",
        "    def __init__(self, title, year, director):\n",
        "        self.title = title\n",
        "        self.year = year\n",
        "        self.director = director\n",
        "\n",
        "#add a few movie objects to a 'movies' list\n",
        "movies = [] #create an empty list\n",
        "movies.append(Movie('Avatar', 2009, 'James Cameron'))\n",
        "movies.append(Movie('Black Panther', 2018, 'Ryan Coogler'))\n",
        "\n",
        "#print information about each movie\n",
        "for movie in movies:\n",
        "    print('The {0} movie {1} was directed by {2}.'.format(movie.year, movie.title, movie.director))"
      ],
      "execution_count": null,
      "outputs": []
    },
    {
      "cell_type": "code",
      "metadata": {
        "trusted": true,
        "id": "7d9b4ZW19Ojf"
      },
      "source": [
        ""
      ],
      "execution_count": null,
      "outputs": []
    }
  ]
}